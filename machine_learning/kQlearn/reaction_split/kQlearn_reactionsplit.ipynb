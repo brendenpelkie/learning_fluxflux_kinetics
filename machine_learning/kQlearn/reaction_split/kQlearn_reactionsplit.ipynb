{
 "cells": [
  {
   "cell_type": "markdown",
   "id": "40243e5f",
   "metadata": {},
   "source": [
    "# learnkQ, reaction split, CM features, minmax scaling"
   ]
  },
  {
   "cell_type": "code",
   "execution_count": 1,
   "id": "9476e836",
   "metadata": {},
   "outputs": [],
   "source": [
    "import pandas as pd\n",
    "import surfreact.mlutils as mlut\n",
    "import numpy as np\n",
    "import sklearn\n",
    "import matplotlib.pyplot as plt\n",
    "from matplotlib.pyplot import cm\n",
    "import joblib\n",
    "\n",
    "import molml.molecule\n",
    "import reaxnet.io.molml\n",
    "import surfreact.utils as ut\n",
    "\n",
    "\n",
    "from sklearn.gaussian_process.kernels import PairwiseKernel, Matern"
   ]
  },
  {
   "cell_type": "markdown",
   "id": "ba5ed2a3",
   "metadata": {},
   "source": [
    "## 1. Load data\n"
   ]
  },
  {
   "cell_type": "code",
   "execution_count": 2,
   "id": "ea3ff037",
   "metadata": {},
   "outputs": [],
   "source": [
    "MLdataset = mlut.load_MLdataset('../../../data/MLdataset/')"
   ]
  },
  {
   "cell_type": "code",
   "execution_count": 3,
   "id": "0e1a5764",
   "metadata": {},
   "outputs": [],
   "source": [
    "MLdataset = MLdataset.sort_values('reaction_id').reset_index(drop = True)"
   ]
  },
  {
   "cell_type": "markdown",
   "id": "2b23b32f",
   "metadata": {},
   "source": [
    "## 2. Compute features for atoms\n",
    "\n",
    "Here we are selecting the 6 atoms that move the most during the reaction, then computing geometry features for them."
   ]
  },
  {
   "cell_type": "code",
   "execution_count": 4,
   "id": "89e95731",
   "metadata": {},
   "outputs": [
    {
     "name": "stdout",
     "output_type": "stream",
     "text": [
      "4105\n",
      "[171 170 147 143 142 146]\n",
      "['H', 'C', 'Rh', 'Rh', 'Rh', 'Rh']\n",
      "4119\n",
      "[36 38 37 28 30 31]\n",
      "['H', 'O', 'C', 'Rh', 'Rh', 'Rh']\n",
      "4127\n",
      "[162 164 161 163 135 125]\n",
      "['H', 'O', 'H', 'C', 'Rh', 'Rh']\n",
      "4128\n",
      "[99 98 96 97 81 84]\n",
      "['H', 'H', 'C', 'H', 'Rh', 'Rh']\n",
      "82687\n",
      "[174 173 172 170 171 144]\n",
      "['H', 'H', 'H', 'O', 'C', 'Pt']\n",
      "82736\n",
      "[171 170 172 148 150 149]\n",
      "['H', 'C', 'H', 'Ir', 'Ir', 'Ir']\n",
      "82754\n",
      "[173 170 172 171 121 124]\n",
      "['H', 'C', 'H', 'H', 'Ir', 'Ir']\n",
      "82755\n",
      "[173 170 172 171 121 122]\n",
      "['H', 'C', 'H', 'H', 'Pt', 'Pt']\n",
      "82769\n",
      "[171 173 170 172 147 143]\n",
      "['H', 'O', 'H', 'C', 'Ag', 'Ag']\n",
      "82826\n",
      "[171 173 172 170 148 150]\n",
      "['H', 'O', 'C', 'H', 'Ir', 'Ir']\n",
      "82843\n",
      "[170 172 171 151 149 148]\n",
      "['H', 'O', 'C', 'Pd', 'Pd', 'Pd']\n",
      "432820\n",
      "[30 27 29 28 25 22]\n",
      "['H', 'C', 'H', 'O', 'Cu', 'Cu']\n",
      "432827\n",
      "[29 28 27 22 19 25]\n",
      "['H', 'O', 'C', 'Cu', 'Cu', 'Cu']\n",
      "432887\n",
      "[29 28 27 19 18 25]\n",
      "['H', 'H', 'C', 'Cu', 'Cu', 'Cu']\n"
     ]
    }
   ],
   "source": [
    "react_selected_list = []\n",
    "prod_selected_list = []\n",
    "\n",
    "for i, row in MLdataset.iterrows():\n",
    "    \n",
    "    print(row.reaction_id)\n",
    "    \n",
    "    react = row.reactant_geom\n",
    "    prod = row.product_geom\n",
    "    \n",
    "    react_selected, prod_selected = mlut.get_moving_atoms(react, prod, 6)\n",
    "    print(react_selected.get_chemical_symbols())\n",
    "    react_selected_list.append(react_selected)\n",
    "    prod_selected_list.append(prod_selected)"
   ]
  },
  {
   "cell_type": "code",
   "execution_count": 5,
   "id": "3a2e4ff7",
   "metadata": {},
   "outputs": [],
   "source": [
    "MLdataset['selected_reactant_atoms'] = react_selected_list\n",
    "MLdataset['selected_product_atoms'] = prod_selected_list\n"
   ]
  },
  {
   "cell_type": "markdown",
   "id": "2ed972bf",
   "metadata": {},
   "source": [
    "#### Compute coulomb matrix features for selected atoms"
   ]
  },
  {
   "cell_type": "code",
   "execution_count": 6,
   "id": "1bb6ba53",
   "metadata": {},
   "outputs": [],
   "source": [
    "reactants = []\n",
    "products = []\n",
    "\n",
    "for i, row in MLdataset.iterrows():\n",
    "    reactants.append(row.selected_reactant_atoms)\n",
    "    products.append(row.selected_product_atoms)\n",
    "    "
   ]
  },
  {
   "cell_type": "code",
   "execution_count": 7,
   "id": "5d515455",
   "metadata": {},
   "outputs": [],
   "source": [
    "allgeoms = reactants + products"
   ]
  },
  {
   "cell_type": "code",
   "execution_count": 8,
   "id": "44f256d2",
   "metadata": {},
   "outputs": [],
   "source": [
    "CM_input = [reaxnet.io.molml.atoms_to_molmllist(geom) for geom in allgeoms]"
   ]
  },
  {
   "cell_type": "code",
   "execution_count": 9,
   "id": "f127596e",
   "metadata": {},
   "outputs": [],
   "source": [
    "feat = molml.molecule.CoulombMatrix()\n",
    "\n",
    "features = feat.fit_transform(CM_input)"
   ]
  },
  {
   "cell_type": "code",
   "execution_count": 10,
   "id": "6089f107",
   "metadata": {},
   "outputs": [],
   "source": [
    "reactant_feats = features[0:int(len(features)/2)]\n",
    "product_feats = features[int(len(features)/2):]\n",
    "\n",
    "CM_diff = [react - prod for prod, react in zip(product_feats, reactant_feats)]"
   ]
  },
  {
   "cell_type": "code",
   "execution_count": 11,
   "id": "4720f407",
   "metadata": {},
   "outputs": [],
   "source": [
    "geom_features = np.zeros((len(MLdataset), 36))"
   ]
  },
  {
   "cell_type": "code",
   "execution_count": 12,
   "id": "b81c5f27",
   "metadata": {},
   "outputs": [],
   "source": [
    "for i, feat in enumerate(CM_diff):\n",
    "    geom_features[i,:] = feat"
   ]
  },
  {
   "cell_type": "markdown",
   "id": "fd23a0b0",
   "metadata": {},
   "source": [
    "## 3. Combine features into one matrix"
   ]
  },
  {
   "cell_type": "code",
   "execution_count": 13,
   "id": "ede54472",
   "metadata": {},
   "outputs": [],
   "source": [
    "X, y  = mlut.concatenate_features_kQ(geom_features, MLdataset, log_cff=True)"
   ]
  },
  {
   "cell_type": "code",
   "execution_count": 14,
   "id": "70c3bcfe",
   "metadata": {},
   "outputs": [
    {
     "data": {
      "text/plain": [
       "(55, 39)"
      ]
     },
     "execution_count": 14,
     "metadata": {},
     "output_type": "execute_result"
    }
   ],
   "source": [
    "X.shape"
   ]
  },
  {
   "cell_type": "markdown",
   "id": "8fc60853",
   "metadata": {},
   "source": [
    "## 4. Train/test split"
   ]
  },
  {
   "cell_type": "code",
   "execution_count": 15,
   "id": "4db7a3a7",
   "metadata": {},
   "outputs": [],
   "source": [
    "test_index = [4119, 82754, 82755, 432820]"
   ]
  },
  {
   "cell_type": "code",
   "execution_count": 16,
   "id": "95ab5226",
   "metadata": {},
   "outputs": [],
   "source": [
    "X_train_indexed, X_test_indexed, y_train, y_test = mlut.reaction_split(X, y, test_index)"
   ]
  },
  {
   "cell_type": "code",
   "execution_count": 17,
   "id": "2467ceb3",
   "metadata": {},
   "outputs": [],
   "source": [
    "X_train = X_train_indexed[:, 1:]\n",
    "X_test = X_test_indexed[:, 1:]"
   ]
  },
  {
   "cell_type": "markdown",
   "id": "3f4c1f72",
   "metadata": {},
   "source": [
    "## 5. Scale CM values and other features"
   ]
  },
  {
   "cell_type": "code",
   "execution_count": 18,
   "id": "d703d311",
   "metadata": {},
   "outputs": [],
   "source": [
    "scaler = sklearn.preprocessing.MinMaxScaler()\n",
    "\n",
    "scaler.fit(X_train)\n",
    "\n",
    "X_train = scaler.transform(X_train)\n",
    "X_test = scaler.transform(X_test)"
   ]
  },
  {
   "cell_type": "markdown",
   "id": "8e827b88",
   "metadata": {},
   "source": [
    "## 6. Train a  GPRs"
   ]
  },
  {
   "cell_type": "code",
   "execution_count": 43,
   "id": "8e087120",
   "metadata": {},
   "outputs": [],
   "source": [
    "LS = 1\n",
    "scale_min = 1e-5\n",
    "scale_max = 1e5\n",
    "Nr = 50\n",
    "RS = 27\n",
    "alpha = 5e-1"
   ]
  },
  {
   "cell_type": "code",
   "execution_count": 44,
   "id": "bf94a183",
   "metadata": {},
   "outputs": [
    {
     "data": {
      "text/plain": [
       "GaussianProcessRegressor(alpha=0.5,\n",
       "                         kernel=1**2 * Matern(length_scale=1, nu=1.5) + 1**2 * PairwiseKernel(gamma=1.0, metric=linear),\n",
       "                         n_restarts_optimizer=50, random_state=27)"
      ]
     },
     "execution_count": 44,
     "metadata": {},
     "output_type": "execute_result"
    }
   ],
   "source": [
    "kernel = 1 * Matern(length_scale=LS, length_scale_bounds=(scale_min, scale_max)) + 1 * PairwiseKernel()\n",
    "\n",
    "gpr = sklearn.gaussian_process.GaussianProcessRegressor(kernel = kernel, normalize_y = False, n_restarts_optimizer=Nr, random_state=RS, alpha = alpha)\n",
    "\n",
    "gpr.fit(X_train, y_train)"
   ]
  },
  {
   "cell_type": "code",
   "execution_count": 45,
   "id": "0983b6c8-f1fb-4618-9fec-9bc9d0431a46",
   "metadata": {},
   "outputs": [
    {
     "data": {
      "text/plain": [
       "-100.93648516267254"
      ]
     },
     "execution_count": 45,
     "metadata": {},
     "output_type": "execute_result"
    }
   ],
   "source": [
    "gpr.log_marginal_likelihood()"
   ]
  },
  {
   "cell_type": "markdown",
   "id": "1ae68aee",
   "metadata": {},
   "source": [
    "## 7. Evalute model "
   ]
  },
  {
   "cell_type": "code",
   "execution_count": 46,
   "id": "a5e4a39e",
   "metadata": {},
   "outputs": [
    {
     "name": "stdout",
     "output_type": "stream",
     "text": [
      "0.22144749851000975\n",
      "0.10269731651345655\n"
     ]
    }
   ],
   "source": [
    "y_pred_train = gpr.predict(X_train)\n",
    "train_MAE = sklearn.metrics.mean_absolute_error(y_train, y_pred_train)\n",
    "MAPE_train = sklearn.metrics.mean_absolute_percentage_error(y_train, y_pred_train)*100\n",
    "print(MAPE_train)\n",
    "print(train_MAE)"
   ]
  },
  {
   "cell_type": "code",
   "execution_count": 47,
   "id": "2e673125",
   "metadata": {},
   "outputs": [],
   "source": [
    "y_pred, y_pred_std = gpr.predict(X_test, return_std=True)"
   ]
  },
  {
   "cell_type": "code",
   "execution_count": 48,
   "id": "641c6548-7f14-47af-a56e-a4ebc9d8ab93",
   "metadata": {},
   "outputs": [],
   "source": [
    "np.save('y_pred_test.npy', y_pred)\n",
    "np.save('y_pred_test_std.npy', y_pred_std)"
   ]
  },
  {
   "cell_type": "code",
   "execution_count": 49,
   "id": "58a43a36",
   "metadata": {},
   "outputs": [
    {
     "name": "stdout",
     "output_type": "stream",
     "text": [
      "MAE:  14.767083834974784\n",
      "R2:  -4.857646766654975\n",
      "MAPE (Table 2):  33.831725261948435\n"
     ]
    }
   ],
   "source": [
    "MAE = sklearn.metrics.mean_absolute_error(y_test, y_pred)\n",
    "r2 = sklearn.metrics.r2_score(y_test, y_pred)\n",
    "MAPE = sklearn.metrics.mean_absolute_percentage_error(y_test, y_pred)*100\n",
    "\n",
    "print('MAE: ', MAE)\n",
    "print('R2: ', r2)\n",
    "print('MAPE (Table 2): ', MAPE)"
   ]
  },
  {
   "cell_type": "code",
   "execution_count": 42,
   "id": "f0dabb84",
   "metadata": {},
   "outputs": [
    {
     "data": {
      "text/plain": [
       "Text(0.5, 1.0, 'Reaction Split Test Prediction Parity Plot')"
      ]
     },
     "execution_count": 42,
     "metadata": {},
     "output_type": "execute_result"
    },
    {
     "data": {
      "image/png": "[encoded data removed]",
      "text/plain": [
       "<Figure size 576x576 with 1 Axes>"
      ]
     },
     "metadata": {
      "needs_background": "light"
     },
     "output_type": "display_data"
    }
   ],
   "source": [
    "fig, ax = plt.subplots(figsize = (8,8))\n",
    "\n",
    "lowlim = min(min(y_pred), min(y_test))-5\n",
    "hilim = max(max(y_pred), max(y_test))+5\n",
    "\n",
    "#lowlim = min(y_test)\n",
    "#hilim = max(y_test)\n",
    "\n",
    "ax.set_xlim(lowlim, hilim)\n",
    "ax.set_ylim(lowlim, hilim)\n",
    "line = np.linspace(lowlim, hilim, 1000)\n",
    "\n",
    "ax.plot(line, line)\n",
    "plt.scatter(y_test, y_pred)\n",
    "ax.set_xlabel('kQ True')\n",
    "ax.set_ylabel('kQ predicted')\n",
    "ax.set_title('Reaction Split Test Prediction Parity Plot')"
   ]
  },
  {
   "cell_type": "code",
   "execution_count": null,
   "id": "916d44b9-342c-4974-b3a7-73e5813f05b1",
   "metadata": {},
   "outputs": [],
   "source": []
  },
  {
   "cell_type": "code",
   "execution_count": null,
   "id": "b6d9c395-c4ac-4bab-b80f-0e36f59b8430",
   "metadata": {},
   "outputs": [],
   "source": []
  }
 ],
 "metadata": {
  "julynter-results": {
   "filteredId": [],
   "filteredIndividual": [],
   "filteredRestart": [],
   "filteredType": [],
   "hash": "d9b9cafd11df372aec0f98b78651186ae7688d4e",
   "visible": [
    {
     "cellId": "group",
     "hash": "c0de46ba034d710c2b2406a37ee6816be9634aa0",
     "reason": "This groups other lint messages",
     "reportId": "group",
     "reportType": "hiddenstate",
     "suggestion": null,
     "text": "Hidden State"
    },
    {
     "cellId": 38,
     "hash": "1b3a874f327d4a56e06fc06295bea1331a4c9abe",
     "reason": "A skip in the execution count might indicate the presence of a hidden state caused by a cell that does not exist anymore. Hidden states might prevent cells from executing or producing the same results, hampering the reproducibility.",
     "reportId": "h4",
     "reportType": "hiddenstate",
     "suggestion": "Please consider re-running the notebook to guarantee the reproducibility.",
     "text": "Cell 38 skips the execution count"
    },
    {
     "cellId": "group",
     "hash": "19d3d3d153f22e318cbe061df9e685ba5165b0aa",
     "reason": "This groups other lint messages",
     "reportId": "group",
     "reportType": "confusenotebook",
     "suggestion": null,
     "text": "Confuse Notebook"
    },
    {
     "cellId": 26,
     "hash": "6c48881ab80ca0dd7f7ebd16957226709c3047eb",
     "reason": "Empty cells in between executable ones occupy space and might impact the readability of the notebook.",
     "reportId": "c3",
     "reportType": "confusenotebook",
     "suggestion": "Please consider removing it to improve the readability.",
     "text": "Cell 26 is empty in the middle of the notebook"
    },
    {
     "cellId": 38,
     "hash": "30e5b2f37850f35597563c3177e8d1394f61a5e0",
     "reason": "When you try to run all cells following the top-down order, cells in the wrong order might fail to execute or produce different results, hampering the reproducibility.",
     "reportId": "c2",
     "reportType": "confusenotebook",
     "suggestion": "Please consider re-running the notebook to guarantee the reproducibility.",
     "text": "Cell 38 has the execution count 29 in the wrong order"
    },
    {
     "cellId": 46,
     "hash": "1daf5cd6102dea0e9af188e259422685662fe817",
     "reason": "Empty cells in between executable ones occupy space and might impact the readability of the notebook.",
     "reportId": "c3",
     "reportType": "confusenotebook",
     "suggestion": "Please consider removing it to improve the readability.",
     "text": "Cell 46 is empty in the middle of the notebook"
    },
    {
     "cellId": 53,
     "hash": "93b3de7f99255b26dbe7b19665b17a345f3d1a22",
     "reason": "A markdown cell at the end of the notebook can conclude it, presenting a summary of the obtained results.",
     "reportId": "c5",
     "reportType": "confusenotebook",
     "suggestion": "Please consider adding a markdown cell to conclude the notebook.",
     "text": "The last cell of the notebook is not a markdown cell"
    }
   ]
  },
  "kernelspec": {
   "display_name": "Python 3 (ipykernel)",
   "language": "python",
   "name": "python3"
  },
  "language_info": {
   "codemirror_mode": {
    "name": "ipython",
    "version": 3
   },
   "file_extension": ".py",
   "mimetype": "text/x-python",
   "name": "python",
   "nbconvert_exporter": "python",
   "pygments_lexer": "ipython3",
   "version": "3.9.11"
  }
 },
 "nbformat": 4,
 "nbformat_minor": 5
}
