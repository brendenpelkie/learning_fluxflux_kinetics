{
 "cells": [
  {
   "cell_type": "markdown",
   "id": "77ee2994-d559-4162-98ff-0c40ce88a54b",
   "metadata": {},
   "source": [
    "# kQ learn, Temperature split, CM features, minmax scaled"
   ]
  },
  {
   "cell_type": "code",
   "execution_count": 15,
   "id": "afbdf614-35ef-40d1-acdd-03966d65c8cd",
   "metadata": {
    "tags": []
   },
   "outputs": [],
   "source": [
    "import pandas as pd\n",
    "import surfreact.mlutils as mlut\n",
    "import numpy as np\n",
    "import sklearn\n",
    "import matplotlib.pyplot as plt\n",
    "from matplotlib.pyplot import cm\n",
    "import joblib\n",
    "import surfreact.utils\n",
    "\n",
    "from sklearn.gaussian_process.kernels import PairwiseKernel, Matern\n",
    "import molml.molecule"
   ]
  },
  {
   "cell_type": "markdown",
   "id": "4a71808d-8c26-4c02-97de-a849fe30c93b",
   "metadata": {},
   "source": [
    "## 1. Load data\n"
   ]
  },
  {
   "cell_type": "code",
   "execution_count": 16,
   "id": "e67579b4-ee5c-4658-88d6-67da48d17642",
   "metadata": {},
   "outputs": [],
   "source": [
    "MLdataset = mlut.load_MLdataset('../../../data/MLdataset/')"
   ]
  },
  {
   "cell_type": "code",
   "execution_count": 17,
   "id": "9bc27793-108e-40ee-a264-ef0eaa63f2c8",
   "metadata": {},
   "outputs": [],
   "source": [
    "MLdataset = MLdataset.sort_values('reaction_id').reset_index(drop = True)"
   ]
  },
  {
   "cell_type": "code",
   "execution_count": 18,
   "id": "68a96a42-0924-4789-a819-6f97d9acd979",
   "metadata": {},
   "outputs": [
    {
     "data": {
      "text/html": [
       "<div>\n",
       "<style scoped>\n",
       "    .dataframe tbody tr th:only-of-type {\n",
       "        vertical-align: middle;\n",
       "    }\n",
       "\n",
       "    .dataframe tbody tr th {\n",
       "        vertical-align: top;\n",
       "    }\n",
       "\n",
       "    .dataframe thead th {\n",
       "        text-align: right;\n",
       "    }\n",
       "</style>\n",
       "<table border=\"1\" class=\"dataframe\">\n",
       "  <thead>\n",
       "    <tr style=\"text-align: right;\">\n",
       "      <th></th>\n",
       "      <th>reaction_number</th>\n",
       "      <th>reaction_id</th>\n",
       "      <th>metal_name</th>\n",
       "      <th>facetNum</th>\n",
       "      <th>equation</th>\n",
       "      <th>reactant_mass_gmol</th>\n",
       "      <th>reaction_energy</th>\n",
       "      <th>Temperature_list</th>\n",
       "      <th>Cff_status</th>\n",
       "      <th>kQ_Cff_unitstimeau</th>\n",
       "      <th>Cff_time_converged_au</th>\n",
       "      <th>reactant_geom</th>\n",
       "      <th>product_geom</th>\n",
       "    </tr>\n",
       "  </thead>\n",
       "  <tbody>\n",
       "    <tr>\n",
       "      <th>0</th>\n",
       "      <td>1</td>\n",
       "      <td>4105</td>\n",
       "      <td>Rh</td>\n",
       "      <td>111</td>\n",
       "      <td>CH* + * -&gt; C* + H*</td>\n",
       "      <td>13.019</td>\n",
       "      <td>0.016886</td>\n",
       "      <td>[324, 356, 388]</td>\n",
       "      <td>True</td>\n",
       "      <td>[8.439089996000001e-27, 8.528334979000001e-25,...</td>\n",
       "      <td>[8050, 8050, 8050]</td>\n",
       "      <td>(Atom('Rh', [0.0, 0.0, 9.999932], index=0), At...</td>\n",
       "      <td>(Atom('Rh', [0.0, 0.0, 9.999932], index=0), At...</td>\n",
       "    </tr>\n",
       "    <tr>\n",
       "      <th>1</th>\n",
       "      <td>2</td>\n",
       "      <td>4119</td>\n",
       "      <td>Rh</td>\n",
       "      <td>111</td>\n",
       "      <td>COH* + * -&gt; C* + OH*</td>\n",
       "      <td>29.018</td>\n",
       "      <td>0.024870</td>\n",
       "      <td>[300.0, 308, 356, 381]</td>\n",
       "      <td>True</td>\n",
       "      <td>[6.167286059e-25, 2.1418641489999997e-24, 1.17...</td>\n",
       "      <td>[8050, 8050, 8050, 8050]</td>\n",
       "      <td>(Atom('Rh', [-0.0, -0.0, 10.0], tag=9, index=0...</td>\n",
       "      <td>(Atom('Rh', [-0.0, -0.0, 10.0], tag=10, index=...</td>\n",
       "    </tr>\n",
       "    <tr>\n",
       "      <th>2</th>\n",
       "      <td>3</td>\n",
       "      <td>4127</td>\n",
       "      <td>Rh</td>\n",
       "      <td>111</td>\n",
       "      <td>CHOH* + * -&gt; CHO* + H*</td>\n",
       "      <td>30.026</td>\n",
       "      <td>-0.016445</td>\n",
       "      <td>[300.0, 304, 355, 392]</td>\n",
       "      <td>True</td>\n",
       "      <td>[4.7091193650000006e-26, 9.146473084e-26, 1.18...</td>\n",
       "      <td>[3955, 8015, 6195, 8015]</td>\n",
       "      <td>(Atom('Rh', [0.0, 0.0, 9.999932], index=0), At...</td>\n",
       "      <td>(Atom('Rh', [0.0, 0.0, 9.999932], index=0), At...</td>\n",
       "    </tr>\n",
       "    <tr>\n",
       "      <th>3</th>\n",
       "      <td>4</td>\n",
       "      <td>4128</td>\n",
       "      <td>Rh</td>\n",
       "      <td>211</td>\n",
       "      <td>CH3* + * -&gt; CH2* + H*</td>\n",
       "      <td>15.035</td>\n",
       "      <td>0.001734</td>\n",
       "      <td>[150.0, 180, 277, 394]</td>\n",
       "      <td>True</td>\n",
       "      <td>[8.655822108041674e-20, 3.1581820793463735e-17...</td>\n",
       "      <td>[8010, 8010, 8010, 8050]</td>\n",
       "      <td>(Atom('Rh', [2.733715, 2.232044, -6.313224], i...</td>\n",
       "      <td>(Atom('Rh', [2.733715, 2.232044, -6.313224], i...</td>\n",
       "    </tr>\n",
       "    <tr>\n",
       "      <th>4</th>\n",
       "      <td>5</td>\n",
       "      <td>82687</td>\n",
       "      <td>Pt</td>\n",
       "      <td>111</td>\n",
       "      <td>CH2OH* + * -&gt; CHOH* + H*</td>\n",
       "      <td>31.034</td>\n",
       "      <td>0.003384</td>\n",
       "      <td>[300.0, 301, 359, 394]</td>\n",
       "      <td>True</td>\n",
       "      <td>[2.9236971009999998e-24, 3.4104214149999996e-2...</td>\n",
       "      <td>[15040, 15040, 15040, 15040]</td>\n",
       "      <td>(Atom('Pt', [0.0, 0.0, 10.336705], index=0), A...</td>\n",
       "      <td>(Atom('Pt', [0.0, 0.0, 10.336705], index=0), A...</td>\n",
       "    </tr>\n",
       "    <tr>\n",
       "      <th>5</th>\n",
       "      <td>6</td>\n",
       "      <td>82736</td>\n",
       "      <td>Ir</td>\n",
       "      <td>111</td>\n",
       "      <td>CH2* + * -&gt; CH* + H*</td>\n",
       "      <td>14.027</td>\n",
       "      <td>-0.014666</td>\n",
       "      <td>[150.0, 181, 310, 316]</td>\n",
       "      <td>True</td>\n",
       "      <td>[6.175030253943774e-22, 6.196319745586352e-19,...</td>\n",
       "      <td>[8070, 8070, 8050, 8050]</td>\n",
       "      <td>(Atom('Ir', [0.0, 0.0, 10.077588], index=0), A...</td>\n",
       "      <td>(Atom('Ir', [0.0, 0.0, 10.077588], index=0), A...</td>\n",
       "    </tr>\n",
       "    <tr>\n",
       "      <th>6</th>\n",
       "      <td>7</td>\n",
       "      <td>82754</td>\n",
       "      <td>Ir</td>\n",
       "      <td>111</td>\n",
       "      <td>CH3* + * -&gt; CH2* + H*</td>\n",
       "      <td>15.035</td>\n",
       "      <td>0.011371</td>\n",
       "      <td>[150.0, 212, 284, 326]</td>\n",
       "      <td>True</td>\n",
       "      <td>[1.847925853248729e-25, 2.68103220697606e-19, ...</td>\n",
       "      <td>[6040, 8050, 8050, 8050]</td>\n",
       "      <td>(Atom('Ir', [0.0, 0.0, 10.077588], index=0), A...</td>\n",
       "      <td>(Atom('Ir', [0.0, 0.0, 10.077588], index=0), A...</td>\n",
       "    </tr>\n",
       "    <tr>\n",
       "      <th>7</th>\n",
       "      <td>8</td>\n",
       "      <td>82755</td>\n",
       "      <td>Pt</td>\n",
       "      <td>111</td>\n",
       "      <td>CH3* + * -&gt; CH2* + H*</td>\n",
       "      <td>15.035</td>\n",
       "      <td>0.016453</td>\n",
       "      <td>[300.0, 326, 360, 382]</td>\n",
       "      <td>True</td>\n",
       "      <td>[1.412256772e-22, 4.182732331e-21, 1.695614581...</td>\n",
       "      <td>[8050, 8050, 8050, 8050]</td>\n",
       "      <td>(Atom('Pt', [0.0, 0.0, 10.336705], index=0), A...</td>\n",
       "      <td>(Atom('Pt', [0.0, 0.0, 10.336705], index=0), A...</td>\n",
       "    </tr>\n",
       "    <tr>\n",
       "      <th>8</th>\n",
       "      <td>9</td>\n",
       "      <td>82769</td>\n",
       "      <td>Ag</td>\n",
       "      <td>111</td>\n",
       "      <td>CHOH* + * -&gt; HCO* + H*</td>\n",
       "      <td>30.026</td>\n",
       "      <td>0.003097</td>\n",
       "      <td>[200.0, 241, 276, 340]</td>\n",
       "      <td>True</td>\n",
       "      <td>[8.913179842086833e-21, 5.7568447277197286e-18...</td>\n",
       "      <td>[8050, 8050, 8050, 8050]</td>\n",
       "      <td>(Atom('Ag', [0.0, 0.0, 10.932598], index=0), A...</td>\n",
       "      <td>(Atom('Ag', [0.0, 0.0, 10.932598], index=0), A...</td>\n",
       "    </tr>\n",
       "    <tr>\n",
       "      <th>9</th>\n",
       "      <td>10</td>\n",
       "      <td>82826</td>\n",
       "      <td>Ir</td>\n",
       "      <td>111</td>\n",
       "      <td>CHOH* + * -&gt; CH* + OH*</td>\n",
       "      <td>30.026</td>\n",
       "      <td>-0.009481</td>\n",
       "      <td>[200.0, 263, 278, 388]</td>\n",
       "      <td>True</td>\n",
       "      <td>[1.1954511756806575e-24, 9.176101583765838e-20...</td>\n",
       "      <td>[5110, 8070, 8070, 8050]</td>\n",
       "      <td>(Atom('Ir', [0.0, 0.0, 10.077588], index=0), A...</td>\n",
       "      <td>(Atom('Ir', [0.0, 0.0, 10.077588], index=0), A...</td>\n",
       "    </tr>\n",
       "    <tr>\n",
       "      <th>10</th>\n",
       "      <td>11</td>\n",
       "      <td>82843</td>\n",
       "      <td>Pd</td>\n",
       "      <td>111</td>\n",
       "      <td>CHO* + * -&gt; CO* + H*</td>\n",
       "      <td>29.018</td>\n",
       "      <td>-0.045372</td>\n",
       "      <td>[250.0, 254, 310, 373]</td>\n",
       "      <td>True</td>\n",
       "      <td>[5.343530537196135e-32, 1.464274704821664e-31,...</td>\n",
       "      <td>[8070, 8070, 8050, 8050]</td>\n",
       "      <td>(Atom('Pd', [0.0, 0.0, 10.336705], index=0), A...</td>\n",
       "      <td>(Atom('Pd', [0.0, 0.0, 10.336705], index=0), A...</td>\n",
       "    </tr>\n",
       "    <tr>\n",
       "      <th>11</th>\n",
       "      <td>12</td>\n",
       "      <td>432820</td>\n",
       "      <td>Cu</td>\n",
       "      <td>100</td>\n",
       "      <td>COH* + H* + 0* -&gt; CHOH* + *</td>\n",
       "      <td>30.026</td>\n",
       "      <td>-0.009338</td>\n",
       "      <td>[300.0, 321, 337, 383]</td>\n",
       "      <td>True</td>\n",
       "      <td>[3.1385028249999996e-21, 4.1397129599999994e-2...</td>\n",
       "      <td>[8050, 8050, 8050, 8050]</td>\n",
       "      <td>(Atom('Cu', [0.0, -0.0, 3.5887], tag=3, magmom...</td>\n",
       "      <td>(Atom('Cu', [0.0, -0.0, 3.5887], tag=3, magmom...</td>\n",
       "    </tr>\n",
       "    <tr>\n",
       "      <th>12</th>\n",
       "      <td>13</td>\n",
       "      <td>432827</td>\n",
       "      <td>Cu</td>\n",
       "      <td>100</td>\n",
       "      <td>CO* + H* + 0* -&gt; CHO* + *</td>\n",
       "      <td>29.018</td>\n",
       "      <td>0.018006</td>\n",
       "      <td>[250.0, 296, 336, 381]</td>\n",
       "      <td>True</td>\n",
       "      <td>[3.285354089e-24, 4.285033963e-21, 4.526656501...</td>\n",
       "      <td>[6230, 8050, 5880, 5740]</td>\n",
       "      <td>(Atom('Cu', [0.0, -0.0, 3.5887], tag=3, magmom...</td>\n",
       "      <td>(Atom('Cu', [0.0, -0.0, 3.5887], tag=3, magmom...</td>\n",
       "    </tr>\n",
       "    <tr>\n",
       "      <th>13</th>\n",
       "      <td>14</td>\n",
       "      <td>432887</td>\n",
       "      <td>Cu</td>\n",
       "      <td>100</td>\n",
       "      <td>CH* + H* + 0* -&gt; CH2* + *</td>\n",
       "      <td>14.027</td>\n",
       "      <td>-0.008529</td>\n",
       "      <td>[250.0, 266, 321, 353]</td>\n",
       "      <td>True</td>\n",
       "      <td>[7.842780383e-21, 7.844156122e-20, 3.823798696...</td>\n",
       "      <td>[8050, 8050, 7910, 7840]</td>\n",
       "      <td>(Atom('Cu', [0.0, -0.0, 3.5887], tag=3, magmom...</td>\n",
       "      <td>(Atom('Cu', [0.0, -0.0, 3.5887], tag=3, magmom...</td>\n",
       "    </tr>\n",
       "  </tbody>\n",
       "</table>\n",
       "</div>"
      ],
      "text/plain": [
       "    reaction_number  reaction_id metal_name  facetNum  \\\n",
       "0                 1         4105         Rh       111   \n",
       "1                 2         4119         Rh       111   \n",
       "2                 3         4127         Rh       111   \n",
       "3                 4         4128         Rh       211   \n",
       "4                 5        82687         Pt       111   \n",
       "5                 6        82736         Ir       111   \n",
       "6                 7        82754         Ir       111   \n",
       "7                 8        82755         Pt       111   \n",
       "8                 9        82769         Ag       111   \n",
       "9                10        82826         Ir       111   \n",
       "10               11        82843         Pd       111   \n",
       "11               12       432820         Cu       100   \n",
       "12               13       432827         Cu       100   \n",
       "13               14       432887         Cu       100   \n",
       "\n",
       "                       equation  reactant_mass_gmol  reaction_energy  \\\n",
       "0            CH* + * -> C* + H*              13.019         0.016886   \n",
       "1          COH* + * -> C* + OH*              29.018         0.024870   \n",
       "2        CHOH* + * -> CHO* + H*              30.026        -0.016445   \n",
       "3         CH3* + * -> CH2* + H*              15.035         0.001734   \n",
       "4      CH2OH* + * -> CHOH* + H*              31.034         0.003384   \n",
       "5          CH2* + * -> CH* + H*              14.027        -0.014666   \n",
       "6         CH3* + * -> CH2* + H*              15.035         0.011371   \n",
       "7         CH3* + * -> CH2* + H*              15.035         0.016453   \n",
       "8        CHOH* + * -> HCO* + H*              30.026         0.003097   \n",
       "9        CHOH* + * -> CH* + OH*              30.026        -0.009481   \n",
       "10         CHO* + * -> CO* + H*              29.018        -0.045372   \n",
       "11  COH* + H* + 0* -> CHOH* + *              30.026        -0.009338   \n",
       "12    CO* + H* + 0* -> CHO* + *              29.018         0.018006   \n",
       "13    CH* + H* + 0* -> CH2* + *              14.027        -0.008529   \n",
       "\n",
       "          Temperature_list  Cff_status  \\\n",
       "0          [324, 356, 388]        True   \n",
       "1   [300.0, 308, 356, 381]        True   \n",
       "2   [300.0, 304, 355, 392]        True   \n",
       "3   [150.0, 180, 277, 394]        True   \n",
       "4   [300.0, 301, 359, 394]        True   \n",
       "5   [150.0, 181, 310, 316]        True   \n",
       "6   [150.0, 212, 284, 326]        True   \n",
       "7   [300.0, 326, 360, 382]        True   \n",
       "8   [200.0, 241, 276, 340]        True   \n",
       "9   [200.0, 263, 278, 388]        True   \n",
       "10  [250.0, 254, 310, 373]        True   \n",
       "11  [300.0, 321, 337, 383]        True   \n",
       "12  [250.0, 296, 336, 381]        True   \n",
       "13  [250.0, 266, 321, 353]        True   \n",
       "\n",
       "                                   kQ_Cff_unitstimeau  \\\n",
       "0   [8.439089996000001e-27, 8.528334979000001e-25,...   \n",
       "1   [6.167286059e-25, 2.1418641489999997e-24, 1.17...   \n",
       "2   [4.7091193650000006e-26, 9.146473084e-26, 1.18...   \n",
       "3   [8.655822108041674e-20, 3.1581820793463735e-17...   \n",
       "4   [2.9236971009999998e-24, 3.4104214149999996e-2...   \n",
       "5   [6.175030253943774e-22, 6.196319745586352e-19,...   \n",
       "6   [1.847925853248729e-25, 2.68103220697606e-19, ...   \n",
       "7   [1.412256772e-22, 4.182732331e-21, 1.695614581...   \n",
       "8   [8.913179842086833e-21, 5.7568447277197286e-18...   \n",
       "9   [1.1954511756806575e-24, 9.176101583765838e-20...   \n",
       "10  [5.343530537196135e-32, 1.464274704821664e-31,...   \n",
       "11  [3.1385028249999996e-21, 4.1397129599999994e-2...   \n",
       "12  [3.285354089e-24, 4.285033963e-21, 4.526656501...   \n",
       "13  [7.842780383e-21, 7.844156122e-20, 3.823798696...   \n",
       "\n",
       "           Cff_time_converged_au  \\\n",
       "0             [8050, 8050, 8050]   \n",
       "1       [8050, 8050, 8050, 8050]   \n",
       "2       [3955, 8015, 6195, 8015]   \n",
       "3       [8010, 8010, 8010, 8050]   \n",
       "4   [15040, 15040, 15040, 15040]   \n",
       "5       [8070, 8070, 8050, 8050]   \n",
       "6       [6040, 8050, 8050, 8050]   \n",
       "7       [8050, 8050, 8050, 8050]   \n",
       "8       [8050, 8050, 8050, 8050]   \n",
       "9       [5110, 8070, 8070, 8050]   \n",
       "10      [8070, 8070, 8050, 8050]   \n",
       "11      [8050, 8050, 8050, 8050]   \n",
       "12      [6230, 8050, 5880, 5740]   \n",
       "13      [8050, 8050, 7910, 7840]   \n",
       "\n",
       "                                        reactant_geom  \\\n",
       "0   (Atom('Rh', [0.0, 0.0, 9.999932], index=0), At...   \n",
       "1   (Atom('Rh', [-0.0, -0.0, 10.0], tag=9, index=0...   \n",
       "2   (Atom('Rh', [0.0, 0.0, 9.999932], index=0), At...   \n",
       "3   (Atom('Rh', [2.733715, 2.232044, -6.313224], i...   \n",
       "4   (Atom('Pt', [0.0, 0.0, 10.336705], index=0), A...   \n",
       "5   (Atom('Ir', [0.0, 0.0, 10.077588], index=0), A...   \n",
       "6   (Atom('Ir', [0.0, 0.0, 10.077588], index=0), A...   \n",
       "7   (Atom('Pt', [0.0, 0.0, 10.336705], index=0), A...   \n",
       "8   (Atom('Ag', [0.0, 0.0, 10.932598], index=0), A...   \n",
       "9   (Atom('Ir', [0.0, 0.0, 10.077588], index=0), A...   \n",
       "10  (Atom('Pd', [0.0, 0.0, 10.336705], index=0), A...   \n",
       "11  (Atom('Cu', [0.0, -0.0, 3.5887], tag=3, magmom...   \n",
       "12  (Atom('Cu', [0.0, -0.0, 3.5887], tag=3, magmom...   \n",
       "13  (Atom('Cu', [0.0, -0.0, 3.5887], tag=3, magmom...   \n",
       "\n",
       "                                         product_geom  \n",
       "0   (Atom('Rh', [0.0, 0.0, 9.999932], index=0), At...  \n",
       "1   (Atom('Rh', [-0.0, -0.0, 10.0], tag=10, index=...  \n",
       "2   (Atom('Rh', [0.0, 0.0, 9.999932], index=0), At...  \n",
       "3   (Atom('Rh', [2.733715, 2.232044, -6.313224], i...  \n",
       "4   (Atom('Pt', [0.0, 0.0, 10.336705], index=0), A...  \n",
       "5   (Atom('Ir', [0.0, 0.0, 10.077588], index=0), A...  \n",
       "6   (Atom('Ir', [0.0, 0.0, 10.077588], index=0), A...  \n",
       "7   (Atom('Pt', [0.0, 0.0, 10.336705], index=0), A...  \n",
       "8   (Atom('Ag', [0.0, 0.0, 10.932598], index=0), A...  \n",
       "9   (Atom('Ir', [0.0, 0.0, 10.077588], index=0), A...  \n",
       "10  (Atom('Pd', [0.0, 0.0, 10.336705], index=0), A...  \n",
       "11  (Atom('Cu', [0.0, -0.0, 3.5887], tag=3, magmom...  \n",
       "12  (Atom('Cu', [0.0, -0.0, 3.5887], tag=3, magmom...  \n",
       "13  (Atom('Cu', [0.0, -0.0, 3.5887], tag=3, magmom...  "
      ]
     },
     "execution_count": 18,
     "metadata": {},
     "output_type": "execute_result"
    }
   ],
   "source": [
    "MLdataset"
   ]
  },
  {
   "cell_type": "markdown",
   "id": "32d09b4a-f25a-4973-852d-26207c018190",
   "metadata": {},
   "source": [
    "## 2. Compute features for atoms\n",
    "Here we are selecting the 6 atoms that move the most during the reaction, then computing geometry features for them."
   ]
  },
  {
   "cell_type": "code",
   "execution_count": 19,
   "id": "c3973a1a-02ec-466b-b8fb-8872e6ceef91",
   "metadata": {},
   "outputs": [
    {
     "name": "stdout",
     "output_type": "stream",
     "text": [
      "4105\n",
      "[171 170 147 143 142 146]\n",
      "['H', 'C', 'Rh', 'Rh', 'Rh', 'Rh']\n",
      "4119\n",
      "[36 38 37 28 30 31]\n",
      "['H', 'O', 'C', 'Rh', 'Rh', 'Rh']\n",
      "4127\n",
      "[162 164 161 163 135 125]\n",
      "['H', 'O', 'H', 'C', 'Rh', 'Rh']\n",
      "4128\n",
      "[99 98 96 97 81 84]\n",
      "['H', 'H', 'C', 'H', 'Rh', 'Rh']\n",
      "82687\n",
      "[174 173 172 170 171 144]\n",
      "['H', 'H', 'H', 'O', 'C', 'Pt']\n",
      "82736\n",
      "[171 170 172 148 150 149]\n",
      "['H', 'C', 'H', 'Ir', 'Ir', 'Ir']\n",
      "82754\n",
      "[173 170 172 171 121 124]\n",
      "['H', 'C', 'H', 'H', 'Ir', 'Ir']\n",
      "82755\n",
      "[173 170 172 171 121 122]\n",
      "['H', 'C', 'H', 'H', 'Pt', 'Pt']\n",
      "82769\n",
      "[171 173 170 172 147 143]\n",
      "['H', 'O', 'H', 'C', 'Ag', 'Ag']\n",
      "82826\n",
      "[171 173 172 170 148 150]\n",
      "['H', 'O', 'C', 'H', 'Ir', 'Ir']\n",
      "82843\n",
      "[170 172 171 151 149 148]\n",
      "['H', 'O', 'C', 'Pd', 'Pd', 'Pd']\n",
      "432820\n",
      "[30 27 29 28 25 22]\n",
      "['H', 'C', 'H', 'O', 'Cu', 'Cu']\n",
      "432827\n",
      "[29 28 27 22 19 25]\n",
      "['H', 'O', 'C', 'Cu', 'Cu', 'Cu']\n",
      "432887\n",
      "[29 28 27 19 18 25]\n",
      "['H', 'H', 'C', 'Cu', 'Cu', 'Cu']\n"
     ]
    }
   ],
   "source": [
    "react_selected_list = []\n",
    "prod_selected_list = []\n",
    "\n",
    "for i, row in MLdataset.iterrows():\n",
    "    \n",
    "    print(row.reaction_id)\n",
    "    \n",
    "    react = row.reactant_geom\n",
    "    prod = row.product_geom\n",
    "    \n",
    "    react_selected, prod_selected = mlut.get_moving_atoms(react, prod, 6)\n",
    "    print(react_selected.get_chemical_symbols())\n",
    "    react_selected_list.append(react_selected)\n",
    "    prod_selected_list.append(prod_selected)"
   ]
  },
  {
   "cell_type": "code",
   "execution_count": 20,
   "id": "e8838154-1dfa-45d2-b401-9126bb0d1938",
   "metadata": {},
   "outputs": [],
   "source": [
    "MLdataset['selected_reactant_atoms'] = react_selected_list\n",
    "MLdataset['selected_product_atoms'] = prod_selected_list\n"
   ]
  },
  {
   "cell_type": "markdown",
   "id": "13687cc7-3d15-4d50-a109-48c8edd3abee",
   "metadata": {},
   "source": [
    "#### Compute coulomb matrix features for selected atoms"
   ]
  },
  {
   "cell_type": "code",
   "execution_count": 21,
   "id": "3a80f4d5-dcf7-4aba-a4ba-d2733d5fa96e",
   "metadata": {},
   "outputs": [],
   "source": [
    "reactants = []\n",
    "products = []\n",
    "\n",
    "for i, row in MLdataset.iterrows():\n",
    "    reactants.append(row.selected_reactant_atoms)\n",
    "    products.append(row.selected_product_atoms)\n",
    "    "
   ]
  },
  {
   "cell_type": "code",
   "execution_count": 22,
   "id": "b923252c-70d9-4724-913d-cf5360f99b63",
   "metadata": {},
   "outputs": [],
   "source": [
    "allgeoms = reactants + products"
   ]
  },
  {
   "cell_type": "code",
   "execution_count": 26,
   "id": "ba3559ea-30c0-4147-972f-dc74f34e8748",
   "metadata": {},
   "outputs": [],
   "source": [
    "CM_input = [surfreact.utils.atoms_to_molmllist(geom) for geom in allgeoms]"
   ]
  },
  {
   "cell_type": "code",
   "execution_count": 27,
   "id": "eb015c8b-fa8b-4c15-8adb-f2733904ad53",
   "metadata": {},
   "outputs": [],
   "source": [
    "feat = molml.molecule.CoulombMatrix()\n",
    "\n",
    "features = feat.fit_transform(CM_input)"
   ]
  },
  {
   "cell_type": "code",
   "execution_count": 28,
   "id": "021ccd0f-0526-4553-9b13-0e22b04bb693",
   "metadata": {},
   "outputs": [],
   "source": [
    "reactant_feats = features[0:int(len(features)/2)]\n",
    "product_feats = features[int(len(features)/2):]\n",
    "\n",
    "CM_diff = [react - prod for prod, react in zip(product_feats, reactant_feats)]"
   ]
  },
  {
   "cell_type": "code",
   "execution_count": 29,
   "id": "14f29e31-cc7b-4458-919e-2fe5c886a789",
   "metadata": {},
   "outputs": [],
   "source": [
    "geom_features = np.zeros((len(MLdataset), 36))"
   ]
  },
  {
   "cell_type": "code",
   "execution_count": 30,
   "id": "e52c04dd-6fb2-4400-b4c8-b7d3b540b0dc",
   "metadata": {},
   "outputs": [],
   "source": [
    "for i, feat in enumerate(CM_diff):\n",
    "    geom_features[i,:] = feat"
   ]
  },
  {
   "cell_type": "markdown",
   "id": "a332f90c-20c7-45ba-8ff7-17de5b31e354",
   "metadata": {},
   "source": [
    "## 3. Combine features into one matrix"
   ]
  },
  {
   "cell_type": "code",
   "execution_count": 31,
   "id": "f512da90-96b4-4faa-92f1-023432a14298",
   "metadata": {},
   "outputs": [],
   "source": [
    "X, y  = mlut.concatenate_features_kQ(geom_features, MLdataset, log_cff=True)"
   ]
  },
  {
   "cell_type": "markdown",
   "id": "372974f1-f7ec-4b65-8589-cf9c2216aaee",
   "metadata": {},
   "source": [
    "## 4. Train/test split"
   ]
  },
  {
   "cell_type": "code",
   "execution_count": 32,
   "id": "373216bb-b3af-4e6b-b223-fd8503682c61",
   "metadata": {},
   "outputs": [],
   "source": [
    "X_train_indexed, X_test_indexed, y_train, y_test = mlut.temperature_split(X, y, MLdataset)"
   ]
  },
  {
   "cell_type": "code",
   "execution_count": 33,
   "id": "03939990-b86d-4e56-a884-87bc30d28292",
   "metadata": {},
   "outputs": [],
   "source": [
    "X_train = X_train_indexed[:, 1:]\n",
    "X_test = X_test_indexed[:, 1:]"
   ]
  },
  {
   "cell_type": "markdown",
   "id": "e815c0bd-e8d2-4ba4-9970-2f7fb37c40f3",
   "metadata": {},
   "source": [
    "## 5. Scale CM values and other features\n"
   ]
  },
  {
   "cell_type": "code",
   "execution_count": 34,
   "id": "2e919243-88a6-4218-9a19-c476e0482472",
   "metadata": {},
   "outputs": [],
   "source": [
    "scaler = sklearn.preprocessing.MinMaxScaler()\n",
    "\n",
    "scaler.fit(X_train)\n",
    "\n",
    "X_train = scaler.transform(X_train)\n",
    "X_test = scaler.transform(X_test)"
   ]
  },
  {
   "cell_type": "markdown",
   "id": "f5b2f31e-1068-4352-80c3-fa78ce6b6278",
   "metadata": {},
   "source": [
    "## 6. Train a GPR"
   ]
  },
  {
   "cell_type": "code",
   "execution_count": 35,
   "id": "ee8e4fdb-b6e3-485f-8ed2-58dba0c737b8",
   "metadata": {},
   "outputs": [],
   "source": [
    "LS = 1\n",
    "scale_min = 1e-5\n",
    "scale_max = 1e5\n",
    "Nr = 50\n",
    "RS = 27\n",
    "alpha = 5e-1"
   ]
  },
  {
   "cell_type": "code",
   "execution_count": 36,
   "id": "e2c1c031-d058-4dda-b6f4-23e78474646a",
   "metadata": {
    "scrolled": true,
    "tags": []
   },
   "outputs": [
    {
     "data": {
      "text/plain": [
       "GaussianProcessRegressor(alpha=0.5,\n",
       "                         kernel=1**2 * Matern(length_scale=1, nu=1.5) + 1**2 * PairwiseKernel(gamma=1.0, metric=linear),\n",
       "                         n_restarts_optimizer=50, random_state=27)"
      ]
     },
     "execution_count": 36,
     "metadata": {},
     "output_type": "execute_result"
    }
   ],
   "source": [
    "kernel = 1 * Matern(length_scale=LS, length_scale_bounds=(scale_min, scale_max)) + 1 * PairwiseKernel()\n",
    "\n",
    "gpr = sklearn.gaussian_process.GaussianProcessRegressor(kernel = kernel, normalize_y = False, n_restarts_optimizer=Nr, random_state=RS, alpha = alpha)\n",
    "\n",
    "gpr.fit(X_train, y_train)\n"
   ]
  },
  {
   "cell_type": "code",
   "execution_count": 37,
   "id": "2a083c6b-c5e6-4724-b923-a2416d1c2c21",
   "metadata": {},
   "outputs": [
    {
     "data": {
      "text/plain": [
       "-125.27707495131537"
      ]
     },
     "execution_count": 37,
     "metadata": {},
     "output_type": "execute_result"
    }
   ],
   "source": [
    "gpr.log_marginal_likelihood()"
   ]
  },
  {
   "cell_type": "markdown",
   "id": "f0780136-1101-4ac2-a9ab-d8f01bd4a3f7",
   "metadata": {},
   "source": [
    "## 7. Evalute model output"
   ]
  },
  {
   "cell_type": "code",
   "execution_count": 38,
   "id": "2f0a326f-fb07-422d-977f-15f31069bb4d",
   "metadata": {},
   "outputs": [
    {
     "name": "stdout",
     "output_type": "stream",
     "text": [
      "0.26142232219369743\n",
      "0.11926867754421595\n"
     ]
    }
   ],
   "source": [
    "y_pred_train = gpr.predict(X_train)\n",
    "train_MAE = sklearn.metrics.mean_absolute_error(y_train, y_pred_train)\n",
    "MAPE_train = sklearn.metrics.mean_absolute_percentage_error(y_train, y_pred_train)*100\n",
    "print(MAPE_train)\n",
    "print(train_MAE)"
   ]
  },
  {
   "cell_type": "code",
   "execution_count": 39,
   "id": "b7d024ab-9af8-4f58-b451-a117855412e1",
   "metadata": {},
   "outputs": [
    {
     "name": "stdout",
     "output_type": "stream",
     "text": [
      "0.11926867754421595\n"
     ]
    }
   ],
   "source": [
    "train_MAE = sklearn.metrics.mean_absolute_error(y_train, y_pred_train)\n",
    "print(train_MAE)"
   ]
  },
  {
   "cell_type": "code",
   "execution_count": 40,
   "id": "65bb2b9f-f59d-42f1-8bf0-d6ec194b1427",
   "metadata": {},
   "outputs": [],
   "source": [
    "y_pred, y_pred_std = gpr.predict(X_test, return_std=True)"
   ]
  },
  {
   "cell_type": "code",
   "execution_count": 41,
   "id": "bdb18aaf-ca9f-4861-a98a-3479f9fe55db",
   "metadata": {},
   "outputs": [
    {
     "name": "stdout",
     "output_type": "stream",
     "text": [
      "MAE:  0.45780309356993115\n",
      "R2:  0.9911239291284266\n",
      "MAPE (Table 2):  0.998213688934132\n"
     ]
    }
   ],
   "source": [
    "MAE = sklearn.metrics.mean_absolute_error(y_test, y_pred)\n",
    "r2 = sklearn.metrics.r2_score(y_test, y_pred)\n",
    "MAPE = sklearn.metrics.mean_absolute_percentage_error(y_test, y_pred)*100\n",
    "\n",
    "print('MAE: ', MAE)\n",
    "print('R2: ', r2)\n",
    "print('MAPE (Table 2): ', MAPE)"
   ]
  },
  {
   "cell_type": "code",
   "execution_count": 42,
   "id": "9e219678-950a-4ee1-b812-90c316aea856",
   "metadata": {},
   "outputs": [
    {
     "data": {
      "text/plain": [
       "<matplotlib.collections.PathCollection at 0x7fd093781100>"
      ]
     },
     "execution_count": 42,
     "metadata": {},
     "output_type": "execute_result"
    },
    {
     "data": {
      "image/png": "[encoded data removed]",
      "text/plain": [
       "<Figure size 432x288 with 1 Axes>"
      ]
     },
     "metadata": {
      "needs_background": "light"
     },
     "output_type": "display_data"
    }
   ],
   "source": [
    "plt.scatter(y_test, y_pred)"
   ]
  },
  {
   "cell_type": "code",
   "execution_count": 43,
   "id": "b7fdf96d-ae50-44f8-b58e-3065eb3178e3",
   "metadata": {},
   "outputs": [],
   "source": [
    "# save things for figures"
   ]
  },
  {
   "cell_type": "code",
   "execution_count": 44,
   "id": "8f48c3ff-234f-4991-ab1e-0e727ad115ae",
   "metadata": {},
   "outputs": [],
   "source": [
    "np.save('y_predicted_test.npy', y_pred)\n",
    "np.save('y_test.npy', y_test)"
   ]
  },
  {
   "cell_type": "code",
   "execution_count": null,
   "id": "48d3f159-42db-45e6-a3f9-f28241ebfae7",
   "metadata": {},
   "outputs": [],
   "source": []
  },
  {
   "cell_type": "code",
   "execution_count": null,
   "id": "7802b7c4-d529-4af1-be9c-a44c214b06bd",
   "metadata": {},
   "outputs": [],
   "source": []
  }
 ],
 "metadata": {
  "kernelspec": {
   "display_name": "Python 3 (ipykernel)",
   "language": "python",
   "name": "python3"
  },
  "language_info": {
   "codemirror_mode": {
    "name": "ipython",
    "version": 3
   },
   "file_extension": ".py",
   "mimetype": "text/x-python",
   "name": "python",
   "nbconvert_exporter": "python",
   "pygments_lexer": "ipython3",
   "version": "3.9.11"
  }
 },
 "nbformat": 4,
 "nbformat_minor": 5
}
